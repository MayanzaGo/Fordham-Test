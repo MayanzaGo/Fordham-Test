{
 "cells": [
  {
   "cell_type": "code",
   "execution_count": 42,
   "id": "f61844cf-8861-4ab1-98b2-5eaab37a829b",
   "metadata": {},
   "outputs": [
    {
     "name": "stdin",
     "output_type": "stream",
     "text": [
      "How much is your original bill? 45239\n",
      "What percentage is your tip? 12\n"
     ]
    },
    {
     "name": "stdout",
     "output_type": "stream",
     "text": [
      "Your tip based on 12.0 % is 5428.68\n",
      "Your total Bill is: 50667.68\n"
     ]
    }
   ],
   "source": [
    "# Python program that calculates tip and total bill for a rsturant.\n",
    "\n",
    "question1= float(input('How much is your original bill?'))\n",
    "question2= float(input('What percentage is your tip?'))\n",
    "tip= question2*0.01*question1\n",
    "totalBill= tip + question1\n",
    "print('Your tip based on',question2,'% is',round((tip),2))\n",
    "print('Your total Bill is:', round((totalBill),2))"
   ]
  },
  {
   "cell_type": "code",
   "execution_count": null,
   "id": "6c992c7f-92af-4a09-9201-2b777b4fcaa4",
   "metadata": {},
   "outputs": [],
   "source": []
  }
 ],
 "metadata": {
  "kernelspec": {
   "display_name": "Python 3 (ipykernel)",
   "language": "python",
   "name": "python3"
  },
  "language_info": {
   "codemirror_mode": {
    "name": "ipython",
    "version": 3
   },
   "file_extension": ".py",
   "mimetype": "text/x-python",
   "name": "python",
   "nbconvert_exporter": "python",
   "pygments_lexer": "ipython3",
   "version": "3.12.4"
  }
 },
 "nbformat": 4,
 "nbformat_minor": 5
}
